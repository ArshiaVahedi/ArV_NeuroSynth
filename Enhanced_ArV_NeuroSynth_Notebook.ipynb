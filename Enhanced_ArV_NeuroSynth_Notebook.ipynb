{
 "cells": [
  {
   "cell_type": "markdown",
   "metadata": {},
   "source": [
    "# Cell 1: Install & Imports"
   ]
  },
  {
   "cell_type": "code",
   "execution_count": null,
   "id": "e6453296",
   "metadata": {},
   "outputs": [],
   "source": [
    "# Install requirements if needed (uncomment if running in a fresh environment)\n",
    "# !pip install torch numpy matplotlib scipy\n",
    "\n",
    "from ArV_NeuroSynth import ArV_NeuroSynth\n",
    "from bci_mat_loader import load_bci_mat_all_runs\n",
    "import torch\n",
    "import numpy as np\n",
    "import matplotlib.pyplot as plt"
   ]
  },
  {
   "cell_type": "markdown",
   "metadata": {},
   "source": [
    "# Cell 2: Data Loading"
   ]
  },
  {
   "cell_type": "code",
   "execution_count": null,
   "metadata": {},
   "outputs": [],
   "source": [
    "# Load EEG data from all runs in the .mat file\n",
    "dataloader, eeg_tensor = load_bci_mat_all_runs(\"A01T.mat\", num_channels=4, segment_length=256, batch_size=32)\n",
    "print(\"EEG tensor shape:\", eeg_tensor.shape)"
   ]
  },
  {
   "cell_type": "markdown",
   "metadata": {},
   "source": [
    "# Cell 3: Model Initialization"
   ]
  },
  {
   "cell_type": "code",
   "execution_count": null,
   "metadata": {},
   "outputs": [],
   "source": [
    "device = torch.device(\"cuda\" if torch.cuda.is_available() else \"cpu\")\n",
    "model = ArV_NeuroSynth(input_channels=4, seq_length=256, latent_dim=32, noise_dim=50).to(device)\n",
    "print(\"Model initialized on device:\", device)"
   ]
  },
  {
   "cell_type": "markdown",
   "metadata": {},
   "source": [
    "# Cell 4: Training Loop for ArV_NeuroSynth"
   ]
  },
  {
   "cell_type": "code",
   "execution_count": null,
   "metadata": {},
   "outputs": [],
   "source": [
    "# Hyperparameters\n",
    "epochs = 20\n",
    "learning_rate = 1e-3\n",
    "\n",
    "# Optimizer (Adam is common for VAE/GANs)\n",
    "optimizer = torch.optim.Adam(model.parameters(), lr=learning_rate)\n",
    "\n",
    "# Loss function (MSE for reconstruction, you can add KL or adversarial losses as needed)\n",
    "recon_loss_fn = torch.nn.MSELoss()\n",
    "\n",
    "loss_history = []\n",
    "\n",
    "model.train()\n",
    "for epoch in range(epochs):\n",
    "    epoch_loss = 0\n",
    "    for x_batch, in dataloader:\n",
    "        x_batch = x_batch.to(device)\n",
    "        # Forward pass (VAE mode)\n",
    "        x_recon, mu, logvar, z = model(x_batch, mode='vae')\n",
    "        # VAE loss: reconstruction + KL divergence\n",
    "        recon_loss = recon_loss_fn(x_recon, x_batch)\n",
    "        kl_loss = -0.5 * torch.mean(1 + logvar - mu.pow(2) - logvar.exp())\n",
    "        loss = recon_loss + 0.01 * kl_loss  # 0.01 is a typical beta value for VAE, adjust as needed\n",
    "\n",
    "        optimizer.zero_grad()\n",
    "        loss.backward()\n",
    "        optimizer.step()\n",
    "\n",
    "        epoch_loss += loss.item() * x_batch.size(0)\n",
    "\n",
    "    avg_loss = epoch_loss / len(dataloader.dataset)\n",
    "    loss_history.append(avg_loss)\n",
    "    print(f\"Epoch {epoch+1}/{epochs} - Loss: {avg_loss:.6f}\")\n",
    "\n",
    "# Save the final model and loss curve\n",
    "save_training_results(model)\n",
    "\n",
    "# Plot loss curve\n",
    "plt.figure(figsize=(8, 4))\n",
    "plt.plot(loss_history, label=\"Training Loss\")\n",
    "plt.xlabel(\"Epoch\")\n",
    "plt.ylabel(\"Loss\")\n",
    "plt.title(\"Training Loss Curve\")\n",
    "plt.grid()\n",
    "plt.legend()\n",
    "plt.tight_layout()\n",
    "plt.show()"
   ]
  },
  {
   "cell_type": "markdown",
   "metadata": {},
   "source": [
    "# Cell 5: Save & Load Utilities"
   ]
  },
  {
   "cell_type": "code",
   "execution_count": null,
   "metadata": {},
   "outputs": [],
   "source": [
    "def save_training_results(model, x_recon=None, plot=False, prefix=\"arv_neurosynth\"):\n",
    "    torch.save(model.state_dict(), f\"{prefix}_trained.pth\")\n",
    "    print(f\"Model saved as {prefix}_trained.pth\")\n",
    "    if x_recon is not None:\n",
    "        np.save(f\"{prefix}_reconstructed_eeg.npy\", x_recon.cpu().numpy())\n",
    "        print(f\"Reconstructed EEG saved as {prefix}_reconstructed_eeg.npy\")\n",
    "    if plot and x_recon is not None:\n",
    "        plt.figure(figsize=(12, 4))\n",
    "        for ch in range(x_recon.shape[1]):\n",
    "            plt.plot(x_recon.cpu()[0, ch], label=f\"Ch{ch}\")\n",
    "        plt.legend()\n",
    "        plt.title(\"Reconstructed EEG\")\n",
    "        plt.grid()\n",
    "        plt.tight_layout()\n",
    "        plt.savefig(f\"{prefix}_reconstruction_plot.png\")\n",
    "        plt.close()\n",
    "        print(f\"Plot saved as {prefix}_reconstruction_plot.png\")\n",
    "\n",
    "def load_trained_model(model_class, prefix=\"arv_neurosynth\", **model_kwargs):\n",
    "    model = model_class(**model_kwargs)\n",
    "    model.load_state_dict(torch.load(f\"{prefix}_trained.pth\"))\n",
    "    model.eval()\n",
    "    print(f\"Model loaded from {prefix}_trained.pth\")\n",
    "    return model"
   ]
  },
  {
   "cell_type": "markdown",
   "metadata": {},
   "source": [
    "# Cell 6: Save Model and Results"
   ]
  },
  {
   "cell_type": "code",
   "execution_count": null,
   "metadata": {},
   "outputs": [],
   "source": [
    "# Example: Save after training\n",
    "with torch.no_grad():\n",
    "    x_real = next(iter(dataloader))[0][:1].to(device)\n",
    "    x_recon, _, _, _ = model(x_real, mode='vae')\n",
    "save_training_results(model, x_recon, plot=True)"
   ]
  },
  {
   "cell_type": "markdown",
   "metadata": {},
   "source": [
    "# Cell 7: Load Model Later"
   ]
  },
  {
   "cell_type": "code",
   "execution_count": null,
   "metadata": {},
   "outputs": [],
   "source": [
    "# Example: Load the trained model for inference or further training\n",
    "model_loaded = load_trained_model(\n",
    "    ArV_NeuroSynth,\n",
    "    input_channels=4, seq_length=256, latent_dim=32, noise_dim=50\n",
    ")"
   ]
  },
  {
   "cell_type": "markdown",
   "metadata": {},
   "source": [
    "# Cell 8: Visualize Results"
   ]
  },
  {
   "cell_type": "code",
   "execution_count": null,
   "metadata": {},
   "outputs": [],
   "source": [
    "# Visualize real vs reconstructed EEG\n",
    "plt.figure(figsize=(12, 4))\n",
    "for ch in range(x_real.shape[1]):\n",
    "    plt.plot(x_real.cpu()[0, ch], label=f\"Real Ch{ch}\")\n",
    "    plt.plot(x_recon.cpu()[0, ch], '--', label=f\"Reconstructed Ch{ch}\")\n",
    "plt.legend()\n",
    "plt.title(\"Real vs Reconstructed EEG\")\n",
    "plt.grid()\n",
    "plt.tight_layout()\n",
    "plt.show()"
   ]
  }
 ],
 "metadata": {
  "colab": {
   "provenance": []
  },
  "kernelspec": {
   "display_name": "Python 3",
   "name": "python3"
  },
  "language_info": {
   "codemirror_mode": {
    "name": "ipython",
    "version": 3
   },
   "file_extension": ".py",
   "mimetype": "text/x-python",
   "name": "python",
   "nbconvert_exporter": "python",
   "pygments_lexer": "ipython3",
   "version": "3.12.1"
  }
 },
 "nbformat": 4,
 "nbformat_minor": 5
}
