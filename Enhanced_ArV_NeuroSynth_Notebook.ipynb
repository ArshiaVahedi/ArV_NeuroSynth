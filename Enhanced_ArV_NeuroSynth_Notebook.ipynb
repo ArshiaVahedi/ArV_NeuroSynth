{
  "cells": [
    {
      "cell_type": "code",
      "source": [
        "from google.colab import drive\n",
        "drive.mount('/content/drive')\n"
      ],
      "metadata": {
        "id": "Afm5QjoHWECW",
        "outputId": "cf07cf91-1a6d-42f6-dc85-3bc6e5c078c5",
        "colab": {
          "base_uri": "https://localhost:8080/"
        }
      },
      "id": "Afm5QjoHWECW",
      "execution_count": null,
      "outputs": [
        {
          "output_type": "stream",
          "name": "stdout",
          "text": [
            "Drive already mounted at /content/drive; to attempt to forcibly remount, call drive.mount(\"/content/drive\", force_remount=True).\n"
          ]
        }
      ]
    },
    {
      "cell_type": "code",
      "source": [
        "from ArV_NeuroSynth import ArV_NeuroSynth\n",
        "import torch\n",
        "\n",
        "device = torch.device(\"cuda\" if torch.cuda.is_available() else \"cpu\")"
      ],
      "metadata": {
        "id": "Bh7DeIPeXe9u"
      },
      "id": "Bh7DeIPeXe9u",
      "execution_count": null,
      "outputs": []
    },
    {
      "cell_type": "code",
      "execution_count": null,
      "id": "d34670d0",
      "metadata": {
        "colab": {
          "base_uri": "https://localhost:8080/"
        },
        "id": "d34670d0",
        "outputId": "3c07386b-469a-4f0a-fad7-de7df19186fc",
        "collapsed": true
      },
      "outputs": [
        {
          "output_type": "stream",
          "name": "stdout",
          "text": [
            "Entry 0: type=<class 'numpy.void'>, shape=()\n",
            "Entry 1: type=<class 'numpy.void'>, shape=()\n",
            "Entry 2: type=<class 'numpy.void'>, shape=()\n",
            "Entry 3: type=<class 'numpy.void'>, shape=()\n",
            "Entry 4: type=<class 'numpy.void'>, shape=()\n",
            "Entry 5: type=<class 'numpy.void'>, shape=()\n",
            "Entry 6: type=<class 'numpy.void'>, shape=()\n",
            "Entry 7: type=<class 'numpy.void'>, shape=()\n",
            "Entry 8: type=<class 'numpy.void'>, shape=()\n",
            "Entry 0 field names: ('X', 'trial', 'y', 'fs', 'classes', 'artifacts', 'gender', 'age')\n",
            "Entry 1 field names: ('X', 'trial', 'y', 'fs', 'classes', 'artifacts', 'gender', 'age')\n",
            "Entry 2 field names: ('X', 'trial', 'y', 'fs', 'classes', 'artifacts', 'gender', 'age')\n",
            "Entry 3 field names: ('X', 'trial', 'y', 'fs', 'classes', 'artifacts', 'gender', 'age')\n",
            "Entry 4 field names: ('X', 'trial', 'y', 'fs', 'classes', 'artifacts', 'gender', 'age')\n",
            "Entry 5 field names: ('X', 'trial', 'y', 'fs', 'classes', 'artifacts', 'gender', 'age')\n",
            "Entry 6 field names: ('X', 'trial', 'y', 'fs', 'classes', 'artifacts', 'gender', 'age')\n",
            "Entry 7 field names: ('X', 'trial', 'y', 'fs', 'classes', 'artifacts', 'gender', 'age')\n",
            "Entry 8 field names: ('X', 'trial', 'y', 'fs', 'classes', 'artifacts', 'gender', 'age')\n"
          ]
        }
      ],
      "source": [
        "import scipy.io\n",
        "import numpy as np # Import numpy with the alias np\n",
        "\n",
        "mat = scipy.io.loadmat(\"A01T.mat\")\n",
        "data = mat['data']\n",
        "\n",
        "for i in range(9):\n",
        "    item = data[0, i]\n",
        "    if isinstance(item, np.ndarray) and item.shape == (1, 1):\n",
        "        value = item[0, 0]\n",
        "    else:\n",
        "        value = item\n",
        "    print(f\"Entry {i}: type={type(value)}, shape={getattr(value, 'shape', None)}\")\n",
        "\n",
        "# Corrected indentation for the second for loop\n",
        "for i in range(9):\n",
        "    struct = mat['data'][0, i][0, 0]\n",
        "    print(f\"Entry {i} field names:\", struct.dtype.names)"
      ]
    },
    {
      "cell_type": "code",
      "source": [
        "# Modify the load_bci_mat function to correctly access the nested EEG data\n",
        "import scipy.io\n",
        "import numpy as np\n",
        "import torch\n",
        "from torch.utils.data import Dataset, DataLoader\n",
        "\n",
        "class EEGDataset(Dataset):\n",
        "    def __init__(self, eeg_data, segment_length):\n",
        "        self.eeg_data = eeg_data\n",
        "        self.segment_length = segment_length\n",
        "        # Ensure eeg_data is a PyTorch tensor\n",
        "        if not isinstance(self.eeg_data, torch.Tensor):\n",
        "             # If the data is float64 from scipy, convert to float32 for CUDA compatibility\n",
        "             self.eeg_data = torch.tensor(self.eeg_data, dtype=torch.float32)\n",
        "\n",
        "\n",
        "    def __len__(self):\n",
        "        # Calculate the number of segments, potentially dropping the last partial one\n",
        "        return self.eeg_data.shape[1] // self.segment_length\n",
        "\n",
        "    def __getitem__(self, idx):\n",
        "        # Extract a segment of the EEG data\n",
        "        start_idx = idx * self.segment_length\n",
        "        end_idx = start_idx + self.segment_length\n",
        "        # Ensure the segment covers all channels (dimension 0)\n",
        "        segment = self.eeg_data[:, start_idx:end_idx]\n",
        "        return segment\n",
        "\n",
        "def load_bci_mat(filepath, num_channels=4, segment_length=256, batch_size=32):\n",
        "    \"\"\"\n",
        "    Loads EEG data from a .mat file, assuming a structure similar to BCI Competition IV dataset 2a.\n",
        "\n",
        "    Args:\n",
        "        filepath (str): Path to the .mat file.\n",
        "        num_channels (int): Expected number of EEG channels.\n",
        "        segment_length (int): The desired length of each EEG segment (time steps).\n",
        "        batch_size (int): The batch size for the DataLoader.\n",
        "\n",
        "    Returns:\n",
        "        tuple: A tuple containing:\n",
        "            - dataloader (DataLoader): PyTorch DataLoader for the EEG data.\n",
        "            - eeg_tensor (torch.Tensor): The full loaded EEG data as a PyTorch tensor.\n",
        "    \"\"\"\n",
        "    try:\n",
        "        mat = scipy.io.loadmat(filepath, squeeze_me=True) # Use squeeze_me for easier access to nested arrays\n",
        "    except FileNotFoundError:\n",
        "        raise FileNotFoundError(f\"Error: File not found at {filepath}\")\n",
        "    except Exception as e:\n",
        "        raise IOError(f\"Error loading .mat file: {e}\")\n",
        "\n",
        "    # Attempt to access the nested EEG data assuming it's in 'data' field,\n",
        "    # and then potentially under a field like 'eeg' within the structured array.\n",
        "    # Based on the user's print statements, 'data' is a 1x9 object array,\n",
        "    # and the first element (data[0, 0]) is a struct.\n",
        "    # We need to find the actual EEG data array within this struct.\n",
        "    # We'll iterate through the first element's fields to find a likely candidate.\n",
        "    data = None\n",
        "    if 'data' in mat and mat['data'].size > 0:\n",
        "        # Assuming the first element contains the structure with the EEG data\n",
        "        first_item = mat['data'][0]\n",
        "        if isinstance(first_item, np.ndarray) and first_item.dtype.names is not None:\n",
        "            # Iterate through field names to find a large numerical array, likely the EEG data\n",
        "            for name in first_item.dtype.names:\n",
        "                 # Check if the field contains a numpy array\n",
        "                field_data = first_item[name]\n",
        "                if isinstance(field_data, np.ndarray) and field_data.ndim == 2 and field_data.shape[0] == num_channels:\n",
        "                    data = field_data\n",
        "                    print(f\"Found potential EEG data under field: '{name}' with shape {data.shape}\")\n",
        "                    break # Assume the first suitable field is the EEG data\n",
        "\n",
        "    if data is None:\n",
        "        raise ValueError(\"Could not locate EEG data structure within the .mat file. \"\n",
        "                         \"Checked for a 2D array with 'num_channels' rows within the 'data' structure fields.\")\n",
        "\n",
        "    # Transpose the data if needed to be [channels, time_steps]\n",
        "    # Assuming the loaded data might be [time_steps, channels]\n",
        "    if data.shape[0] != num_channels and data.shape[1] == num_channels:\n",
        "        data = data.T\n",
        "        print(f\"Transposed data to shape: {data.shape}\")\n",
        "    elif data.shape[0] != num_channels:\n",
        "         raise ValueError(f\"EEG data has unexpected number of channels. Expected {num_channels}, found {data.shape[0]}.\")\n",
        "\n",
        "\n",
        "    # Create a PyTorch tensor and the dataset\n",
        "    eeg_tensor = torch.tensor(data, dtype=torch.float32)\n",
        "    eeg_dataset = EEGDataset(eeg_tensor, segment_length)\n",
        "\n",
        "    # Create the DataLoader\n",
        "    dataloader = DataLoader(eeg_dataset, batch_size=batch_size, shuffle=True)\n",
        "\n",
        "    print(f\"Created DataLoader with batch size {batch_size} and segment length {segment_length}.\")\n",
        "    print(f\"Number of segments available: {len(eeg_dataset)}\")\n",
        "\n",
        "\n",
        "    return dataloader, eeg_tensor"
      ],
      "metadata": {
        "id": "E7Qx3rZjm_92"
      },
      "id": "E7Qx3rZjm_92",
      "execution_count": null,
      "outputs": []
    },
    {
      "cell_type": "code",
      "execution_count": null,
      "id": "d04c52ad",
      "metadata": {
        "id": "d04c52ad"
      },
      "outputs": [],
      "source": [
        "model = ArV_NeuroSynth(input_channels=4, seq_length=256, latent_dim=32, noise_dim=50).to(device)\n"
      ]
    },
    {
      "cell_type": "code",
      "execution_count": null,
      "id": "5e0f676c",
      "metadata": {
        "id": "5e0f676c",
        "colab": {
          "base_uri": "https://localhost:8080/",
          "height": 219
        },
        "outputId": "51380e8d-b436-4aad-a70c-e751eba589c5"
      },
      "outputs": [
        {
          "output_type": "error",
          "ename": "NameError",
          "evalue": "name 'dataloader' is not defined",
          "traceback": [
            "\u001b[0;31m---------------------------------------------------------------------------\u001b[0m",
            "\u001b[0;31mNameError\u001b[0m                                 Traceback (most recent call last)",
            "\u001b[0;32m<ipython-input-9-bb90e076b368>\u001b[0m in \u001b[0;36m<cell line: 0>\u001b[0;34m()\u001b[0m\n\u001b[1;32m     14\u001b[0m     \u001b[0mmodel\u001b[0m\u001b[0;34m.\u001b[0m\u001b[0mtrain\u001b[0m\u001b[0;34m(\u001b[0m\u001b[0;34m)\u001b[0m\u001b[0;34m\u001b[0m\u001b[0;34m\u001b[0m\u001b[0m\n\u001b[1;32m     15\u001b[0m     \u001b[0mtotal_vae_loss\u001b[0m\u001b[0;34m,\u001b[0m \u001b[0mtotal_d_loss\u001b[0m\u001b[0;34m,\u001b[0m \u001b[0mtotal_g_loss\u001b[0m \u001b[0;34m=\u001b[0m \u001b[0;36m0\u001b[0m\u001b[0;34m,\u001b[0m \u001b[0;36m0\u001b[0m\u001b[0;34m,\u001b[0m \u001b[0;36m0\u001b[0m\u001b[0;34m\u001b[0m\u001b[0;34m\u001b[0m\u001b[0m\n\u001b[0;32m---> 16\u001b[0;31m     \u001b[0;32mfor\u001b[0m \u001b[0mx_batch\u001b[0m\u001b[0;34m,\u001b[0m \u001b[0;32min\u001b[0m \u001b[0mdataloader\u001b[0m\u001b[0;34m:\u001b[0m\u001b[0;34m\u001b[0m\u001b[0;34m\u001b[0m\u001b[0m\n\u001b[0m\u001b[1;32m     17\u001b[0m         \u001b[0mx_batch\u001b[0m \u001b[0;34m=\u001b[0m \u001b[0mx_batch\u001b[0m\u001b[0;34m.\u001b[0m\u001b[0mto\u001b[0m\u001b[0;34m(\u001b[0m\u001b[0mdevice\u001b[0m\u001b[0;34m)\u001b[0m\u001b[0;34m\u001b[0m\u001b[0;34m\u001b[0m\u001b[0m\n\u001b[1;32m     18\u001b[0m \u001b[0;34m\u001b[0m\u001b[0m\n",
            "\u001b[0;31mNameError\u001b[0m: name 'dataloader' is not defined"
          ]
        }
      ],
      "source": [
        "from ArV_NeuroSynth import compute_gradient_penalty\n",
        "import torch.nn as nn\n",
        "\n",
        "opt_vae = torch.optim.Adam(list(model.encoder.parameters()) + list(model.decoder.parameters()), lr=1e-4)\n",
        "opt_g = torch.optim.Adam(model.G_latent.parameters(), lr=1e-4, betas=(0.5, 0.9))\n",
        "opt_d = torch.optim.Adam(model.D_latent.parameters(), lr=1e-4, betas=(0.5, 0.9))\n",
        "\n",
        "loss_fn = nn.MSELoss()\n",
        "λ_gp = 10\n",
        "β = 1e-5\n",
        "epochs = 5\n",
        "\n",
        "for epoch in range(epochs):\n",
        "    model.train()\n",
        "    total_vae_loss, total_d_loss, total_g_loss = 0, 0, 0\n",
        "    for x_batch, in dataloader:\n",
        "        x_batch = x_batch.to(device)\n",
        "\n",
        "        # VAE\n",
        "        x_recon, mu, logvar, z_real = model(x_batch, mode='vae')\n",
        "        kl = -0.5 * torch.mean(1 + logvar - mu.pow(2) - logvar.exp())\n",
        "        vae_loss = loss_fn(x_recon, x_batch) + β * kl\n",
        "        opt_vae.zero_grad(); vae_loss.backward(); opt_vae.step()\n",
        "        total_vae_loss += vae_loss.item()\n",
        "\n",
        "        # GAN - Discriminator\n",
        "        for _ in range(5):\n",
        "            z_fake = model(noise_for_g_latent=torch.randn(x_batch.size(0), model.noise_dim).to(device), mode='generate_latent_from_noise')\n",
        "            d_real = model(z_real, mode='discriminate_latent')\n",
        "            d_fake = model(z_fake, mode='discriminate_latent')\n",
        "            gp = compute_gradient_penalty(model.D_latent, z_real, z_fake)\n",
        "            d_loss = d_fake.mean() - d_real.mean() + λ_gp * gp\n",
        "            opt_d.zero_grad(); d_loss.backward(); opt_d.step()\n",
        "            total_d_loss += d_loss.item()\n",
        "\n",
        "        # GAN - Generator\n",
        "        z_fake = model(noise_for_g_latent=torch.randn(x_batch.size(0), model.noise_dim).to(device), mode='generate_latent_from_noise')\n",
        "        g_loss = -model(z_fake, mode='discriminate_latent').mean()\n",
        "        opt_g.zero_grad(); g_loss.backward(); opt_g.step()\n",
        "        total_g_loss += g_loss.item()\n",
        "\n",
        "    print(f\"Epoch {epoch+1} | VAE: {total_vae_loss:.4f} | D: {total_d_loss:.4f} | G: {total_g_loss:.4f}\")\n"
      ]
    },
    {
      "cell_type": "code",
      "execution_count": null,
      "id": "f3e5c779",
      "metadata": {
        "colab": {
          "base_uri": "https://localhost:8080/",
          "height": 219
        },
        "id": "f3e5c779",
        "outputId": "43c892e1-378d-4e67-b7e0-7d75387a894a"
      },
      "outputs": [
        {
          "output_type": "error",
          "ename": "NameError",
          "evalue": "name 'model' is not defined",
          "traceback": [
            "\u001b[0;31m---------------------------------------------------------------------------\u001b[0m",
            "\u001b[0;31mNameError\u001b[0m                                 Traceback (most recent call last)",
            "\u001b[0;32m<ipython-input-2-7d01d5d0608d>\u001b[0m in \u001b[0;36m<cell line: 0>\u001b[0;34m()\u001b[0m\n\u001b[1;32m      1\u001b[0m \u001b[0;32mimport\u001b[0m \u001b[0mmatplotlib\u001b[0m\u001b[0;34m.\u001b[0m\u001b[0mpyplot\u001b[0m \u001b[0;32mas\u001b[0m \u001b[0mplt\u001b[0m\u001b[0;34m\u001b[0m\u001b[0;34m\u001b[0m\u001b[0m\n\u001b[1;32m      2\u001b[0m \u001b[0;34m\u001b[0m\u001b[0m\n\u001b[0;32m----> 3\u001b[0;31m \u001b[0mmodel\u001b[0m\u001b[0;34m.\u001b[0m\u001b[0meval\u001b[0m\u001b[0;34m(\u001b[0m\u001b[0;34m)\u001b[0m\u001b[0;34m\u001b[0m\u001b[0;34m\u001b[0m\u001b[0m\n\u001b[0m\u001b[1;32m      4\u001b[0m \u001b[0;32mwith\u001b[0m \u001b[0mtorch\u001b[0m\u001b[0;34m.\u001b[0m\u001b[0mno_grad\u001b[0m\u001b[0;34m(\u001b[0m\u001b[0;34m)\u001b[0m\u001b[0;34m:\u001b[0m\u001b[0;34m\u001b[0m\u001b[0;34m\u001b[0m\u001b[0m\n\u001b[1;32m      5\u001b[0m     \u001b[0mx_real\u001b[0m \u001b[0;34m=\u001b[0m \u001b[0mnext\u001b[0m\u001b[0;34m(\u001b[0m\u001b[0miter\u001b[0m\u001b[0;34m(\u001b[0m\u001b[0mdataloader\u001b[0m\u001b[0;34m)\u001b[0m\u001b[0;34m)\u001b[0m\u001b[0;34m[\u001b[0m\u001b[0;36m0\u001b[0m\u001b[0;34m]\u001b[0m\u001b[0;34m[\u001b[0m\u001b[0;34m:\u001b[0m\u001b[0;36m1\u001b[0m\u001b[0;34m]\u001b[0m\u001b[0;34m.\u001b[0m\u001b[0mto\u001b[0m\u001b[0;34m(\u001b[0m\u001b[0mdevice\u001b[0m\u001b[0;34m)\u001b[0m\u001b[0;34m\u001b[0m\u001b[0;34m\u001b[0m\u001b[0m\n",
            "\u001b[0;31mNameError\u001b[0m: name 'model' is not defined"
          ]
        }
      ],
      "source": [
        "import matplotlib.pyplot as plt\n",
        "\n",
        "model.eval()\n",
        "with torch.no_grad():\n",
        "    x_real = next(iter(dataloader))[0][:1].to(device)\n",
        "    x_recon, _, _, _ = model(x_real, mode='vae')\n",
        "\n",
        "plt.figure(figsize=(12, 4))\n",
        "for ch in range(x_real.shape[1]):\n",
        "    plt.plot(x_real.cpu()[0, ch], label=f\"Real Ch{ch}\")\n",
        "    plt.plot(x_recon.cpu()[0, ch], '--', label=f\"Reconstructed Ch{ch}\")\n",
        "plt.legend(); plt.title(\"Real vs Reconstructed EEG\"); plt.grid(); plt.tight_layout(); plt.show()\n"
      ]
    }
  ],
  "metadata": {
    "colab": {
      "provenance": []
    },
    "language_info": {
      "name": "python"
    },
    "kernelspec": {
      "name": "python3",
      "display_name": "Python 3"
    }
  },
  "nbformat": 4,
  "nbformat_minor": 5
}