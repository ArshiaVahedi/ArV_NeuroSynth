{
  "cells": [
    {
      "cell_type": "code",
      "execution_count": 30,
      "id": "Bh7DeIPeXe9u",
      "metadata": {
        "id": "Bh7DeIPeXe9u"
      },
      "outputs": [],
      "source": [
        "from ArV_NeuroSynth import ArV_NeuroSynth\n",
        "import torch\n",
        "\n",
        "device = torch.device(\"cuda\" if torch.cuda.is_available() else \"cpu\")"
      ]
    },
    {
      "cell_type": "code",
      "execution_count": 31,
      "id": "d34670d0",
      "metadata": {
        "colab": {
          "base_uri": "https://localhost:8080/"
        },
        "collapsed": true,
        "id": "d34670d0",
        "outputId": "3c07386b-469a-4f0a-fad7-de7df19186fc"
      },
      "outputs": [
        {
          "name": "stdout",
          "output_type": "stream",
          "text": [
            "Entry 0: type=<class 'numpy.void'>, shape=()\n",
            "Entry 1: type=<class 'numpy.void'>, shape=()\n",
            "Entry 2: type=<class 'numpy.void'>, shape=()\n",
            "Entry 3: type=<class 'numpy.void'>, shape=()\n",
            "Entry 4: type=<class 'numpy.void'>, shape=()\n",
            "Entry 5: type=<class 'numpy.void'>, shape=()\n",
            "Entry 6: type=<class 'numpy.void'>, shape=()\n",
            "Entry 7: type=<class 'numpy.void'>, shape=()\n",
            "Entry 8: type=<class 'numpy.void'>, shape=()\n",
            "Entry 0 field names: ('X', 'trial', 'y', 'fs', 'classes', 'artifacts', 'gender', 'age')\n",
            "Entry 1 field names: ('X', 'trial', 'y', 'fs', 'classes', 'artifacts', 'gender', 'age')\n",
            "Entry 2 field names: ('X', 'trial', 'y', 'fs', 'classes', 'artifacts', 'gender', 'age')\n",
            "Entry 3 field names: ('X', 'trial', 'y', 'fs', 'classes', 'artifacts', 'gender', 'age')\n",
            "Entry 4 field names: ('X', 'trial', 'y', 'fs', 'classes', 'artifacts', 'gender', 'age')\n",
            "Entry 5 field names: ('X', 'trial', 'y', 'fs', 'classes', 'artifacts', 'gender', 'age')\n",
            "Entry 6 field names: ('X', 'trial', 'y', 'fs', 'classes', 'artifacts', 'gender', 'age')\n",
            "Entry 7 field names: ('X', 'trial', 'y', 'fs', 'classes', 'artifacts', 'gender', 'age')\n",
            "Entry 8 field names: ('X', 'trial', 'y', 'fs', 'classes', 'artifacts', 'gender', 'age')\n"
          ]
        }
      ],
      "source": [
        "import scipy.io\n",
        "import numpy as np # Import numpy with the alias np\n",
        "\n",
        "mat = scipy.io.loadmat(\"A01T.mat\")\n",
        "data = mat['data']\n",
        "\n",
        "for i in range(9):\n",
        "    item = data[0, i]\n",
        "    if isinstance(item, np.ndarray) and item.shape == (1, 1):\n",
        "        value = item[0, 0]\n",
        "    else:\n",
        "        value = item\n",
        "    print(f\"Entry {i}: type={type(value)}, shape={getattr(value, 'shape', None)}\")\n",
        "\n",
        "# Corrected indentation for the second for loop\n",
        "for i in range(9):\n",
        "    struct = mat['data'][0, i][0, 0]\n",
        "    print(f\"Entry {i} field names:\", struct.dtype.names)"
      ]
    },
    {
      "cell_type": "code",
      "execution_count": 32,
      "id": "25c1191a",
      "metadata": {},
      "outputs": [
        {
          "name": "stdout",
          "output_type": "stream",
          "text": [
            "Field names: ('X', 'trial', 'y', 'fs', 'classes', 'artifacts', 'gender', 'age')\n",
            "Field 'X': type=<class 'numpy.ndarray'>, shape=(29683, 25)\n",
            "Field 'trial': type=<class 'numpy.ndarray'>, shape=(0, 1)\n",
            "Field 'y': type=<class 'numpy.ndarray'>, shape=(0, 1)\n",
            "Field 'fs': type=<class 'numpy.ndarray'>, shape=(1, 1)\n",
            "Field 'classes': type=<class 'numpy.ndarray'>, shape=(1, 4)\n",
            "Field 'artifacts': type=<class 'numpy.ndarray'>, shape=(0, 1)\n",
            "Field 'gender': type=<class 'numpy.ndarray'>, shape=(1,)\n",
            "Field 'age': type=<class 'numpy.ndarray'>, shape=(1, 1)\n"
          ]
        }
      ],
      "source": [
        "import scipy.io\n",
        "\n",
        "mat = scipy.io.loadmat(\"A01T.mat\")\n",
        "data = mat['data']\n",
        "\n",
        "# Print all field names and their shapes for the first struct\n",
        "struct = data[0, 0][0, 0]\n",
        "print(\"Field names:\", struct.dtype.names)\n",
        "for name in struct.dtype.names:\n",
        "    arr = struct[name]\n",
        "    print(f\"Field '{name}': type={type(arr)}, shape={getattr(arr, 'shape', None)}\")"
      ]
    },
    {
      "cell_type": "code",
      "execution_count": 33,
      "id": "6d228f41",
      "metadata": {},
      "outputs": [
        {
          "ename": "ValueError",
          "evalue": "Could not locate EEG data structure. Check the .mat file keys manually.",
          "output_type": "error",
          "traceback": [
            "\u001b[31m---------------------------------------------------------------------------\u001b[39m",
            "\u001b[31mValueError\u001b[39m                                Traceback (most recent call last)",
            "\u001b[36mCell\u001b[39m\u001b[36m \u001b[39m\u001b[32mIn[33]\u001b[39m\u001b[32m, line 3\u001b[39m\n\u001b[32m      1\u001b[39m \u001b[38;5;28;01mfrom\u001b[39;00m\u001b[38;5;250m \u001b[39m\u001b[34;01mbci_mat_loader\u001b[39;00m\u001b[38;5;250m \u001b[39m\u001b[38;5;28;01mimport\u001b[39;00m load_bci_mat\n\u001b[32m----> \u001b[39m\u001b[32m3\u001b[39m dataloader, eeg_tensor = \u001b[43mload_bci_mat\u001b[49m\u001b[43m(\u001b[49m\u001b[33;43m\"\u001b[39;49m\u001b[33;43mA01T.mat\u001b[39;49m\u001b[33;43m\"\u001b[39;49m\u001b[43m)\u001b[49m\n\u001b[32m      5\u001b[39m \u001b[38;5;28;01mfor\u001b[39;00m x_batch, \u001b[38;5;129;01min\u001b[39;00m dataloader:\n\u001b[32m      6\u001b[39m     \u001b[38;5;28mprint\u001b[39m(x_batch.shape)  \u001b[38;5;66;03m# Should be [batch_size, 4, 256]\u001b[39;00m\n",
            "\u001b[36mFile \u001b[39m\u001b[32m/workspaces/ArV_NeuroSynth/bci_mat_loader.py:23\u001b[39m, in \u001b[36mload_bci_mat\u001b[39m\u001b[34m(filepath, num_channels, segment_length, batch_size)\u001b[39m\n\u001b[32m     20\u001b[39m             \u001b[38;5;28;01mbreak\u001b[39;00m\n\u001b[32m     22\u001b[39m \u001b[38;5;28;01mif\u001b[39;00m data \u001b[38;5;129;01mis\u001b[39;00m \u001b[38;5;28;01mNone\u001b[39;00m:\n\u001b[32m---> \u001b[39m\u001b[32m23\u001b[39m     \u001b[38;5;28;01mraise\u001b[39;00m \u001b[38;5;167;01mValueError\u001b[39;00m(\u001b[33m\"\u001b[39m\u001b[33mCould not locate EEG data structure. Check the .mat file keys manually.\u001b[39m\u001b[33m\"\u001b[39m)\n\u001b[32m     25\u001b[39m \u001b[38;5;28mprint\u001b[39m(\u001b[33mf\u001b[39m\u001b[33m\"\u001b[39m\u001b[33mLoaded EEG shape: \u001b[39m\u001b[38;5;132;01m{\u001b[39;00mdata.shape\u001b[38;5;132;01m}\u001b[39;00m\u001b[33m\"\u001b[39m)\n\u001b[32m     26\u001b[39m eeg = data[:num_channels, :]\n",
            "\u001b[31mValueError\u001b[39m: Could not locate EEG data structure. Check the .mat file keys manually."
          ]
        }
      ],
      "source": [
        "from bci_mat_loader import load_bci_mat\n",
        "\n",
        "dataloader, eeg_tensor = load_bci_mat(\"A01T.mat\")\n",
        "\n",
        "for x_batch, in dataloader:\n",
        "    print(x_batch.shape)  # Should be [batch_size, 4, 256]\n",
        "    break\n",
        "\n",
        "\n",
        "\n",
        "\n"
      ]
    },
    {
      "cell_type": "code",
      "execution_count": null,
      "id": "0f59ae8c",
      "metadata": {},
      "outputs": [],
      "source": []
    },
    {
      "cell_type": "code",
      "execution_count": null,
      "id": "d04c52ad",
      "metadata": {
        "id": "d04c52ad"
      },
      "outputs": [],
      "source": [
        "model = ArV_NeuroSynth(input_channels=4, seq_length=256, latent_dim=32, noise_dim=50).to(device)\n"
      ]
    },
    {
      "cell_type": "code",
      "execution_count": null,
      "id": "5e0f676c",
      "metadata": {
        "colab": {
          "base_uri": "https://localhost:8080/",
          "height": 219
        },
        "id": "5e0f676c",
        "outputId": "51380e8d-b436-4aad-a70c-e751eba589c5"
      },
      "outputs": [
        {
          "ename": "NameError",
          "evalue": "name 'dataloader' is not defined",
          "output_type": "error",
          "traceback": [
            "\u001b[0;31m---------------------------------------------------------------------------\u001b[0m",
            "\u001b[0;31mNameError\u001b[0m                                 Traceback (most recent call last)",
            "\u001b[0;32m<ipython-input-9-bb90e076b368>\u001b[0m in \u001b[0;36m<cell line: 0>\u001b[0;34m()\u001b[0m\n\u001b[1;32m     14\u001b[0m     \u001b[0mmodel\u001b[0m\u001b[0;34m.\u001b[0m\u001b[0mtrain\u001b[0m\u001b[0;34m(\u001b[0m\u001b[0;34m)\u001b[0m\u001b[0;34m\u001b[0m\u001b[0;34m\u001b[0m\u001b[0m\n\u001b[1;32m     15\u001b[0m     \u001b[0mtotal_vae_loss\u001b[0m\u001b[0;34m,\u001b[0m \u001b[0mtotal_d_loss\u001b[0m\u001b[0;34m,\u001b[0m \u001b[0mtotal_g_loss\u001b[0m \u001b[0;34m=\u001b[0m \u001b[0;36m0\u001b[0m\u001b[0;34m,\u001b[0m \u001b[0;36m0\u001b[0m\u001b[0;34m,\u001b[0m \u001b[0;36m0\u001b[0m\u001b[0;34m\u001b[0m\u001b[0;34m\u001b[0m\u001b[0m\n\u001b[0;32m---> 16\u001b[0;31m     \u001b[0;32mfor\u001b[0m \u001b[0mx_batch\u001b[0m\u001b[0;34m,\u001b[0m \u001b[0;32min\u001b[0m \u001b[0mdataloader\u001b[0m\u001b[0;34m:\u001b[0m\u001b[0;34m\u001b[0m\u001b[0;34m\u001b[0m\u001b[0m\n\u001b[0m\u001b[1;32m     17\u001b[0m         \u001b[0mx_batch\u001b[0m \u001b[0;34m=\u001b[0m \u001b[0mx_batch\u001b[0m\u001b[0;34m.\u001b[0m\u001b[0mto\u001b[0m\u001b[0;34m(\u001b[0m\u001b[0mdevice\u001b[0m\u001b[0;34m)\u001b[0m\u001b[0;34m\u001b[0m\u001b[0;34m\u001b[0m\u001b[0m\n\u001b[1;32m     18\u001b[0m \u001b[0;34m\u001b[0m\u001b[0m\n",
            "\u001b[0;31mNameError\u001b[0m: name 'dataloader' is not defined"
          ]
        }
      ],
      "source": [
        "from ArV_NeuroSynth import compute_gradient_penalty\n",
        "import torch.nn as nn\n",
        "\n",
        "opt_vae = torch.optim.Adam(list(model.encoder.parameters()) + list(model.decoder.parameters()), lr=1e-4)\n",
        "opt_g = torch.optim.Adam(model.G_latent.parameters(), lr=1e-4, betas=(0.5, 0.9))\n",
        "opt_d = torch.optim.Adam(model.D_latent.parameters(), lr=1e-4, betas=(0.5, 0.9))\n",
        "\n",
        "loss_fn = nn.MSELoss()\n",
        "λ_gp = 10\n",
        "β = 1e-5\n",
        "epochs = 5\n",
        "\n",
        "for epoch in range(epochs):\n",
        "    model.train()\n",
        "    total_vae_loss, total_d_loss, total_g_loss = 0, 0, 0\n",
        "    for x_batch, in dataloader:\n",
        "        x_batch = x_batch.to(device)\n",
        "\n",
        "        # VAE\n",
        "        x_recon, mu, logvar, z_real = model(x_batch, mode='vae')\n",
        "        kl = -0.5 * torch.mean(1 + logvar - mu.pow(2) - logvar.exp())\n",
        "        vae_loss = loss_fn(x_recon, x_batch) + β * kl\n",
        "        opt_vae.zero_grad(); vae_loss.backward(); opt_vae.step()\n",
        "        total_vae_loss += vae_loss.item()\n",
        "\n",
        "        # GAN - Discriminator\n",
        "        for _ in range(5):\n",
        "            z_fake = model(noise_for_g_latent=torch.randn(x_batch.size(0), model.noise_dim).to(device), mode='generate_latent_from_noise')\n",
        "            d_real = model(z_real, mode='discriminate_latent')\n",
        "            d_fake = model(z_fake, mode='discriminate_latent')\n",
        "            gp = compute_gradient_penalty(model.D_latent, z_real, z_fake)\n",
        "            d_loss = d_fake.mean() - d_real.mean() + λ_gp * gp\n",
        "            opt_d.zero_grad(); d_loss.backward(); opt_d.step()\n",
        "            total_d_loss += d_loss.item()\n",
        "\n",
        "        # GAN - Generator\n",
        "        z_fake = model(noise_for_g_latent=torch.randn(x_batch.size(0), model.noise_dim).to(device), mode='generate_latent_from_noise')\n",
        "        g_loss = -model(z_fake, mode='discriminate_latent').mean()\n",
        "        opt_g.zero_grad(); g_loss.backward(); opt_g.step()\n",
        "        total_g_loss += g_loss.item()\n",
        "\n",
        "    print(f\"Epoch {epoch+1} | VAE: {total_vae_loss:.4f} | D: {total_d_loss:.4f} | G: {total_g_loss:.4f}\")\n"
      ]
    },
    {
      "cell_type": "code",
      "execution_count": null,
      "id": "f3e5c779",
      "metadata": {
        "colab": {
          "base_uri": "https://localhost:8080/",
          "height": 219
        },
        "id": "f3e5c779",
        "outputId": "43c892e1-378d-4e67-b7e0-7d75387a894a"
      },
      "outputs": [
        {
          "ename": "NameError",
          "evalue": "name 'model' is not defined",
          "output_type": "error",
          "traceback": [
            "\u001b[0;31m---------------------------------------------------------------------------\u001b[0m",
            "\u001b[0;31mNameError\u001b[0m                                 Traceback (most recent call last)",
            "\u001b[0;32m<ipython-input-2-7d01d5d0608d>\u001b[0m in \u001b[0;36m<cell line: 0>\u001b[0;34m()\u001b[0m\n\u001b[1;32m      1\u001b[0m \u001b[0;32mimport\u001b[0m \u001b[0mmatplotlib\u001b[0m\u001b[0;34m.\u001b[0m\u001b[0mpyplot\u001b[0m \u001b[0;32mas\u001b[0m \u001b[0mplt\u001b[0m\u001b[0;34m\u001b[0m\u001b[0;34m\u001b[0m\u001b[0m\n\u001b[1;32m      2\u001b[0m \u001b[0;34m\u001b[0m\u001b[0m\n\u001b[0;32m----> 3\u001b[0;31m \u001b[0mmodel\u001b[0m\u001b[0;34m.\u001b[0m\u001b[0meval\u001b[0m\u001b[0;34m(\u001b[0m\u001b[0;34m)\u001b[0m\u001b[0;34m\u001b[0m\u001b[0;34m\u001b[0m\u001b[0m\n\u001b[0m\u001b[1;32m      4\u001b[0m \u001b[0;32mwith\u001b[0m \u001b[0mtorch\u001b[0m\u001b[0;34m.\u001b[0m\u001b[0mno_grad\u001b[0m\u001b[0;34m(\u001b[0m\u001b[0;34m)\u001b[0m\u001b[0;34m:\u001b[0m\u001b[0;34m\u001b[0m\u001b[0;34m\u001b[0m\u001b[0m\n\u001b[1;32m      5\u001b[0m     \u001b[0mx_real\u001b[0m \u001b[0;34m=\u001b[0m \u001b[0mnext\u001b[0m\u001b[0;34m(\u001b[0m\u001b[0miter\u001b[0m\u001b[0;34m(\u001b[0m\u001b[0mdataloader\u001b[0m\u001b[0;34m)\u001b[0m\u001b[0;34m)\u001b[0m\u001b[0;34m[\u001b[0m\u001b[0;36m0\u001b[0m\u001b[0;34m]\u001b[0m\u001b[0;34m[\u001b[0m\u001b[0;34m:\u001b[0m\u001b[0;36m1\u001b[0m\u001b[0;34m]\u001b[0m\u001b[0;34m.\u001b[0m\u001b[0mto\u001b[0m\u001b[0;34m(\u001b[0m\u001b[0mdevice\u001b[0m\u001b[0;34m)\u001b[0m\u001b[0;34m\u001b[0m\u001b[0;34m\u001b[0m\u001b[0m\n",
            "\u001b[0;31mNameError\u001b[0m: name 'model' is not defined"
          ]
        }
      ],
      "source": [
        "import matplotlib.pyplot as plt\n",
        "\n",
        "model.eval()\n",
        "with torch.no_grad():\n",
        "    x_real = next(iter(dataloader))[0][:1].to(device)\n",
        "    x_recon, _, _, _ = model(x_real, mode='vae')\n",
        "\n",
        "plt.figure(figsize=(12, 4))\n",
        "for ch in range(x_real.shape[1]):\n",
        "    plt.plot(x_real.cpu()[0, ch], label=f\"Real Ch{ch}\")\n",
        "    plt.plot(x_recon.cpu()[0, ch], '--', label=f\"Reconstructed Ch{ch}\")\n",
        "plt.legend(); plt.title(\"Real vs Reconstructed EEG\"); plt.grid(); plt.tight_layout(); plt.show()\n"
      ]
    }
  ],
  "metadata": {
    "colab": {
      "provenance": []
    },
    "kernelspec": {
      "display_name": "Python 3",
      "name": "python3"
    },
    "language_info": {
      "codemirror_mode": {
        "name": "ipython",
        "version": 3
      },
      "file_extension": ".py",
      "mimetype": "text/x-python",
      "name": "python",
      "nbconvert_exporter": "python",
      "pygments_lexer": "ipython3",
      "version": "3.12.1"
    }
  },
  "nbformat": 4,
  "nbformat_minor": 5
}
